{
 "cells": [
  {
   "cell_type": "markdown",
   "id": "c5396704",
   "metadata": {},
   "source": [
    "# Прогнозування шахрайських транзакцій\n",
    "__Метою__ даного дослідження є навчити класифікатор класифікувати транзакції на шахрайські (той випадок, коли шахраї викрадають кошти з карт) та звичайні транзакції (ті, що відбуваються між звичайними людьми) на основі набору характеристик щодо проведення транзакцій.\n",
    "\n",
    "Дана задача буде вирішена за допомогою бінарної класифікації з використанням Scikit-Learn та за допомогою реалізації таких алгоритмів \n",
    "- метод k-найближчих сусідів (K-Nearest Neighbors);\n",
    "- метод опорних векторів (Support Vector Machines);\n",
    "- логічна регресія (Logistic Regression)."
   ]
  },
  {
   "cell_type": "code",
   "execution_count": 1,
   "id": "d119d5b7",
   "metadata": {},
   "outputs": [],
   "source": [
    "#імпортуємо необхідні бібліотеки\n",
    "import pandas as pd\n",
    "import numpy as np\n",
    "import seaborn as sns\n",
    "import matplotlib.pyplot as plt"
   ]
  },
  {
   "cell_type": "code",
   "execution_count": 2,
   "id": "66198924",
   "metadata": {},
   "outputs": [
    {
     "data": {
      "text/html": [
       "<div>\n",
       "<style scoped>\n",
       "    .dataframe tbody tr th:only-of-type {\n",
       "        vertical-align: middle;\n",
       "    }\n",
       "\n",
       "    .dataframe tbody tr th {\n",
       "        vertical-align: top;\n",
       "    }\n",
       "\n",
       "    .dataframe thead th {\n",
       "        text-align: right;\n",
       "    }\n",
       "</style>\n",
       "<table border=\"1\" class=\"dataframe\">\n",
       "  <thead>\n",
       "    <tr style=\"text-align: right;\">\n",
       "      <th></th>\n",
       "      <th>step</th>\n",
       "      <th>type</th>\n",
       "      <th>amount</th>\n",
       "      <th>nameOrig</th>\n",
       "      <th>oldbalanceOrg</th>\n",
       "      <th>newbalanceOrig</th>\n",
       "      <th>nameDest</th>\n",
       "      <th>oldbalanceDest</th>\n",
       "      <th>newbalanceDest</th>\n",
       "      <th>isFraud</th>\n",
       "      <th>isFlaggedFraud</th>\n",
       "    </tr>\n",
       "  </thead>\n",
       "  <tbody>\n",
       "    <tr>\n",
       "      <th>0</th>\n",
       "      <td>1</td>\n",
       "      <td>PAYMENT</td>\n",
       "      <td>9839.64</td>\n",
       "      <td>C1231006815</td>\n",
       "      <td>170136.00</td>\n",
       "      <td>160296.36</td>\n",
       "      <td>M1979787155</td>\n",
       "      <td>0.00</td>\n",
       "      <td>0.00</td>\n",
       "      <td>0</td>\n",
       "      <td>0</td>\n",
       "    </tr>\n",
       "    <tr>\n",
       "      <th>1</th>\n",
       "      <td>1</td>\n",
       "      <td>PAYMENT</td>\n",
       "      <td>1864.28</td>\n",
       "      <td>C1666544295</td>\n",
       "      <td>21249.00</td>\n",
       "      <td>19384.72</td>\n",
       "      <td>M2044282225</td>\n",
       "      <td>0.00</td>\n",
       "      <td>0.00</td>\n",
       "      <td>0</td>\n",
       "      <td>0</td>\n",
       "    </tr>\n",
       "    <tr>\n",
       "      <th>2</th>\n",
       "      <td>1</td>\n",
       "      <td>TRANSFER</td>\n",
       "      <td>181.00</td>\n",
       "      <td>C1305486145</td>\n",
       "      <td>181.00</td>\n",
       "      <td>0.00</td>\n",
       "      <td>C553264065</td>\n",
       "      <td>0.00</td>\n",
       "      <td>0.00</td>\n",
       "      <td>1</td>\n",
       "      <td>0</td>\n",
       "    </tr>\n",
       "    <tr>\n",
       "      <th>3</th>\n",
       "      <td>1</td>\n",
       "      <td>CASH_OUT</td>\n",
       "      <td>181.00</td>\n",
       "      <td>C840083671</td>\n",
       "      <td>181.00</td>\n",
       "      <td>0.00</td>\n",
       "      <td>C38997010</td>\n",
       "      <td>21182.00</td>\n",
       "      <td>0.00</td>\n",
       "      <td>1</td>\n",
       "      <td>0</td>\n",
       "    </tr>\n",
       "    <tr>\n",
       "      <th>4</th>\n",
       "      <td>1</td>\n",
       "      <td>PAYMENT</td>\n",
       "      <td>11668.14</td>\n",
       "      <td>C2048537720</td>\n",
       "      <td>41554.00</td>\n",
       "      <td>29885.86</td>\n",
       "      <td>M1230701703</td>\n",
       "      <td>0.00</td>\n",
       "      <td>0.00</td>\n",
       "      <td>0</td>\n",
       "      <td>0</td>\n",
       "    </tr>\n",
       "    <tr>\n",
       "      <th>...</th>\n",
       "      <td>...</td>\n",
       "      <td>...</td>\n",
       "      <td>...</td>\n",
       "      <td>...</td>\n",
       "      <td>...</td>\n",
       "      <td>...</td>\n",
       "      <td>...</td>\n",
       "      <td>...</td>\n",
       "      <td>...</td>\n",
       "      <td>...</td>\n",
       "      <td>...</td>\n",
       "    </tr>\n",
       "    <tr>\n",
       "      <th>941458</th>\n",
       "      <td>95</td>\n",
       "      <td>CASH_OUT</td>\n",
       "      <td>132557.35</td>\n",
       "      <td>C1179511630</td>\n",
       "      <td>479803.00</td>\n",
       "      <td>347245.65</td>\n",
       "      <td>C435674507</td>\n",
       "      <td>484329.37</td>\n",
       "      <td>616886.72</td>\n",
       "      <td>0</td>\n",
       "      <td>0</td>\n",
       "    </tr>\n",
       "    <tr>\n",
       "      <th>941459</th>\n",
       "      <td>95</td>\n",
       "      <td>PAYMENT</td>\n",
       "      <td>9917.36</td>\n",
       "      <td>C1956161225</td>\n",
       "      <td>90545.00</td>\n",
       "      <td>80627.64</td>\n",
       "      <td>M668364942</td>\n",
       "      <td>0.00</td>\n",
       "      <td>0.00</td>\n",
       "      <td>0</td>\n",
       "      <td>0</td>\n",
       "    </tr>\n",
       "    <tr>\n",
       "      <th>941460</th>\n",
       "      <td>95</td>\n",
       "      <td>PAYMENT</td>\n",
       "      <td>14140.05</td>\n",
       "      <td>C2037964975</td>\n",
       "      <td>20545.00</td>\n",
       "      <td>6404.95</td>\n",
       "      <td>M1355182933</td>\n",
       "      <td>0.00</td>\n",
       "      <td>0.00</td>\n",
       "      <td>0</td>\n",
       "      <td>0</td>\n",
       "    </tr>\n",
       "    <tr>\n",
       "      <th>941461</th>\n",
       "      <td>95</td>\n",
       "      <td>PAYMENT</td>\n",
       "      <td>10020.05</td>\n",
       "      <td>C1633237354</td>\n",
       "      <td>90605.00</td>\n",
       "      <td>80584.95</td>\n",
       "      <td>M1964992463</td>\n",
       "      <td>0.00</td>\n",
       "      <td>0.00</td>\n",
       "      <td>0</td>\n",
       "      <td>0</td>\n",
       "    </tr>\n",
       "    <tr>\n",
       "      <th>941462</th>\n",
       "      <td>95</td>\n",
       "      <td>PAYMENT</td>\n",
       "      <td>11450.03</td>\n",
       "      <td>C1264356443</td>\n",
       "      <td>80584.95</td>\n",
       "      <td>69134.92</td>\n",
       "      <td>M677577406</td>\n",
       "      <td>0.00</td>\n",
       "      <td>0.00</td>\n",
       "      <td>0</td>\n",
       "      <td>0</td>\n",
       "    </tr>\n",
       "  </tbody>\n",
       "</table>\n",
       "<p>941463 rows × 11 columns</p>\n",
       "</div>"
      ],
      "text/plain": [
       "        step      type     amount     nameOrig  oldbalanceOrg  newbalanceOrig  \\\n",
       "0          1   PAYMENT    9839.64  C1231006815      170136.00       160296.36   \n",
       "1          1   PAYMENT    1864.28  C1666544295       21249.00        19384.72   \n",
       "2          1  TRANSFER     181.00  C1305486145         181.00            0.00   \n",
       "3          1  CASH_OUT     181.00   C840083671         181.00            0.00   \n",
       "4          1   PAYMENT   11668.14  C2048537720       41554.00        29885.86   \n",
       "...      ...       ...        ...          ...            ...             ...   \n",
       "941458    95  CASH_OUT  132557.35  C1179511630      479803.00       347245.65   \n",
       "941459    95   PAYMENT    9917.36  C1956161225       90545.00        80627.64   \n",
       "941460    95   PAYMENT   14140.05  C2037964975       20545.00         6404.95   \n",
       "941461    95   PAYMENT   10020.05  C1633237354       90605.00        80584.95   \n",
       "941462    95   PAYMENT   11450.03  C1264356443       80584.95        69134.92   \n",
       "\n",
       "           nameDest  oldbalanceDest  newbalanceDest  isFraud  isFlaggedFraud  \n",
       "0       M1979787155            0.00            0.00        0               0  \n",
       "1       M2044282225            0.00            0.00        0               0  \n",
       "2        C553264065            0.00            0.00        1               0  \n",
       "3         C38997010        21182.00            0.00        1               0  \n",
       "4       M1230701703            0.00            0.00        0               0  \n",
       "...             ...             ...             ...      ...             ...  \n",
       "941458   C435674507       484329.37       616886.72        0               0  \n",
       "941459   M668364942            0.00            0.00        0               0  \n",
       "941460  M1355182933            0.00            0.00        0               0  \n",
       "941461  M1964992463            0.00            0.00        0               0  \n",
       "941462   M677577406            0.00            0.00        0               0  \n",
       "\n",
       "[941463 rows x 11 columns]"
      ]
     },
     "execution_count": 2,
     "metadata": {},
     "output_type": "execute_result"
    }
   ],
   "source": [
    "# зчитаємо файл з початковими даними в датафрейм df\n",
    "df = pd.read_csv('Fraud.csv')\n",
    "df"
   ]
  },
  {
   "cell_type": "markdown",
   "id": "7a99f46f",
   "metadata": {},
   "source": [
    "### Опис датафрейму  \n",
    "Цей набір даних містив інформацію про 6 362 620 тракзакцій, але для того, щоб було більш зручніше проводити дослудження, було вирішено залишити інформацію про 941 463 записів.\n",
    "\n",
    "Датасет містить 10 факторів і 1 цільову змінну. Факторами є наступні характеристики проведених транзакцій:\n",
    "\n",
    "**step** - відображає одиницю часу в реальному світі. У цьому випадку 1 крок – це 1 година часу.\n",
    "\n",
    "**type** - тип проведеної транзакції : CASH-IN, CASH-OUT, DEBIT, PAYMENT and TRANSFER\n",
    "\n",
    "**amount** - сума операції в місцевій валюті.\n",
    "\n",
    "**nameOrig** - клієнт, який розпочав транзакцію\n",
    "\n",
    "**oldbalanceOrg** - початковий баланс перед транзакцією\n",
    "\n",
    "**newbalanceOrig** - новий баланс після транзакції\n",
    "\n",
    "**nameDest** - клієнт, який є одержувачем транзакції\n",
    "\n",
    "**oldbalanceDest** - початковий баланс перед транзакцією на рахунку одержувача\n",
    "\n",
    "**newbalanceDest** - новий баланс після транзакції на рахунку одержувача\n",
    "\n",
    "**isFraud** - це транзакції, здійснені шахрайськими агентами всередині симуляції. У цьому конкретному наборі даних шахрайська поведінка агентів спрямована на отримання прибутку, захоплюючи контрольні або клієнтські рахунки та намагаючись спустошити кошти шляхом переказу на інший рахунок, а потім виведення коштів із системи. Дана змінна і є головним класифікатором.\n",
    "\n",
    "**0 - транзакція не є шахрайською\n",
    "1 - транзакція визначена як шахрайська**\n",
    "\n",
    "**isFlaggedFraud** - бізнес-модель спрямована на контроль масових переказів з одного облікового запису на інший і позначає незаконні спроби. Незаконна спроба в цьому наборі даних – це спроба передати більше 200 000 за одну транзакцію."
   ]
  },
  {
   "cell_type": "code",
   "execution_count": 4,
   "id": "815f602c",
   "metadata": {},
   "outputs": [
    {
     "name": "stdout",
     "output_type": "stream",
     "text": [
      "<class 'pandas.core.frame.DataFrame'>\n",
      "RangeIndex: 941463 entries, 0 to 941462\n",
      "Data columns (total 11 columns):\n",
      " #   Column          Non-Null Count   Dtype  \n",
      "---  ------          --------------   -----  \n",
      " 0   step            941463 non-null  int64  \n",
      " 1   type            941463 non-null  object \n",
      " 2   amount          941463 non-null  float64\n",
      " 3   nameOrig        941463 non-null  object \n",
      " 4   oldbalanceOrg   941463 non-null  float64\n",
      " 5   newbalanceOrig  941463 non-null  float64\n",
      " 6   nameDest        941463 non-null  object \n",
      " 7   oldbalanceDest  941463 non-null  float64\n",
      " 8   newbalanceDest  941463 non-null  float64\n",
      " 9   isFraud         941463 non-null  int64  \n",
      " 10  isFlaggedFraud  941463 non-null  int64  \n",
      "dtypes: float64(5), int64(3), object(3)\n",
      "memory usage: 79.0+ MB\n"
     ]
    }
   ],
   "source": [
    "df.info()"
   ]
  },
  {
   "cell_type": "markdown",
   "id": "099a8025",
   "metadata": {},
   "source": [
    "Типи даних визначені правильно. Кількисними є усі показники, окрім назв клієнтів і типу проведеної транзакції.\n",
    "\n",
    "Нульових значень немає. Усі рядки і стовпці заповнені."
   ]
  },
  {
   "cell_type": "markdown",
   "id": "9f1c1d6d",
   "metadata": {},
   "source": [
    "Для проведення класифікації було вирішено видалити ті фактори, що суттєво не впливатимуть на класифікайцію. \n",
    "\n",
    "Серед яких: **step**, бо проміжок часу ніяк не впливає на характер транзакції. Також для класифікацї неважливими є **nameOrig** та **nameDest**, що вказують на ім'я клієнта, що розпочав і що отримав транзакцію."
   ]
  },
  {
   "cell_type": "code",
   "execution_count": 5,
   "id": "b8829852",
   "metadata": {},
   "outputs": [
    {
     "data": {
      "text/html": [
       "<div>\n",
       "<style scoped>\n",
       "    .dataframe tbody tr th:only-of-type {\n",
       "        vertical-align: middle;\n",
       "    }\n",
       "\n",
       "    .dataframe tbody tr th {\n",
       "        vertical-align: top;\n",
       "    }\n",
       "\n",
       "    .dataframe thead th {\n",
       "        text-align: right;\n",
       "    }\n",
       "</style>\n",
       "<table border=\"1\" class=\"dataframe\">\n",
       "  <thead>\n",
       "    <tr style=\"text-align: right;\">\n",
       "      <th></th>\n",
       "      <th>type</th>\n",
       "      <th>amount</th>\n",
       "      <th>oldbalanceOrg</th>\n",
       "      <th>newbalanceOrig</th>\n",
       "      <th>oldbalanceDest</th>\n",
       "      <th>newbalanceDest</th>\n",
       "      <th>isFraud</th>\n",
       "      <th>isFlaggedFraud</th>\n",
       "    </tr>\n",
       "  </thead>\n",
       "  <tbody>\n",
       "    <tr>\n",
       "      <th>0</th>\n",
       "      <td>PAYMENT</td>\n",
       "      <td>9839.64</td>\n",
       "      <td>170136.00</td>\n",
       "      <td>160296.36</td>\n",
       "      <td>0.00</td>\n",
       "      <td>0.00</td>\n",
       "      <td>0</td>\n",
       "      <td>0</td>\n",
       "    </tr>\n",
       "    <tr>\n",
       "      <th>1</th>\n",
       "      <td>PAYMENT</td>\n",
       "      <td>1864.28</td>\n",
       "      <td>21249.00</td>\n",
       "      <td>19384.72</td>\n",
       "      <td>0.00</td>\n",
       "      <td>0.00</td>\n",
       "      <td>0</td>\n",
       "      <td>0</td>\n",
       "    </tr>\n",
       "    <tr>\n",
       "      <th>2</th>\n",
       "      <td>TRANSFER</td>\n",
       "      <td>181.00</td>\n",
       "      <td>181.00</td>\n",
       "      <td>0.00</td>\n",
       "      <td>0.00</td>\n",
       "      <td>0.00</td>\n",
       "      <td>1</td>\n",
       "      <td>0</td>\n",
       "    </tr>\n",
       "    <tr>\n",
       "      <th>3</th>\n",
       "      <td>CASH_OUT</td>\n",
       "      <td>181.00</td>\n",
       "      <td>181.00</td>\n",
       "      <td>0.00</td>\n",
       "      <td>21182.00</td>\n",
       "      <td>0.00</td>\n",
       "      <td>1</td>\n",
       "      <td>0</td>\n",
       "    </tr>\n",
       "    <tr>\n",
       "      <th>4</th>\n",
       "      <td>PAYMENT</td>\n",
       "      <td>11668.14</td>\n",
       "      <td>41554.00</td>\n",
       "      <td>29885.86</td>\n",
       "      <td>0.00</td>\n",
       "      <td>0.00</td>\n",
       "      <td>0</td>\n",
       "      <td>0</td>\n",
       "    </tr>\n",
       "    <tr>\n",
       "      <th>...</th>\n",
       "      <td>...</td>\n",
       "      <td>...</td>\n",
       "      <td>...</td>\n",
       "      <td>...</td>\n",
       "      <td>...</td>\n",
       "      <td>...</td>\n",
       "      <td>...</td>\n",
       "      <td>...</td>\n",
       "    </tr>\n",
       "    <tr>\n",
       "      <th>941458</th>\n",
       "      <td>CASH_OUT</td>\n",
       "      <td>132557.35</td>\n",
       "      <td>479803.00</td>\n",
       "      <td>347245.65</td>\n",
       "      <td>484329.37</td>\n",
       "      <td>616886.72</td>\n",
       "      <td>0</td>\n",
       "      <td>0</td>\n",
       "    </tr>\n",
       "    <tr>\n",
       "      <th>941459</th>\n",
       "      <td>PAYMENT</td>\n",
       "      <td>9917.36</td>\n",
       "      <td>90545.00</td>\n",
       "      <td>80627.64</td>\n",
       "      <td>0.00</td>\n",
       "      <td>0.00</td>\n",
       "      <td>0</td>\n",
       "      <td>0</td>\n",
       "    </tr>\n",
       "    <tr>\n",
       "      <th>941460</th>\n",
       "      <td>PAYMENT</td>\n",
       "      <td>14140.05</td>\n",
       "      <td>20545.00</td>\n",
       "      <td>6404.95</td>\n",
       "      <td>0.00</td>\n",
       "      <td>0.00</td>\n",
       "      <td>0</td>\n",
       "      <td>0</td>\n",
       "    </tr>\n",
       "    <tr>\n",
       "      <th>941461</th>\n",
       "      <td>PAYMENT</td>\n",
       "      <td>10020.05</td>\n",
       "      <td>90605.00</td>\n",
       "      <td>80584.95</td>\n",
       "      <td>0.00</td>\n",
       "      <td>0.00</td>\n",
       "      <td>0</td>\n",
       "      <td>0</td>\n",
       "    </tr>\n",
       "    <tr>\n",
       "      <th>941462</th>\n",
       "      <td>PAYMENT</td>\n",
       "      <td>11450.03</td>\n",
       "      <td>80584.95</td>\n",
       "      <td>69134.92</td>\n",
       "      <td>0.00</td>\n",
       "      <td>0.00</td>\n",
       "      <td>0</td>\n",
       "      <td>0</td>\n",
       "    </tr>\n",
       "  </tbody>\n",
       "</table>\n",
       "<p>941463 rows × 8 columns</p>\n",
       "</div>"
      ],
      "text/plain": [
       "            type     amount  oldbalanceOrg  newbalanceOrig  oldbalanceDest  \\\n",
       "0        PAYMENT    9839.64      170136.00       160296.36            0.00   \n",
       "1        PAYMENT    1864.28       21249.00        19384.72            0.00   \n",
       "2       TRANSFER     181.00         181.00            0.00            0.00   \n",
       "3       CASH_OUT     181.00         181.00            0.00        21182.00   \n",
       "4        PAYMENT   11668.14       41554.00        29885.86            0.00   \n",
       "...          ...        ...            ...             ...             ...   \n",
       "941458  CASH_OUT  132557.35      479803.00       347245.65       484329.37   \n",
       "941459   PAYMENT    9917.36       90545.00        80627.64            0.00   \n",
       "941460   PAYMENT   14140.05       20545.00         6404.95            0.00   \n",
       "941461   PAYMENT   10020.05       90605.00        80584.95            0.00   \n",
       "941462   PAYMENT   11450.03       80584.95        69134.92            0.00   \n",
       "\n",
       "        newbalanceDest  isFraud  isFlaggedFraud  \n",
       "0                 0.00        0               0  \n",
       "1                 0.00        0               0  \n",
       "2                 0.00        1               0  \n",
       "3                 0.00        1               0  \n",
       "4                 0.00        0               0  \n",
       "...                ...      ...             ...  \n",
       "941458       616886.72        0               0  \n",
       "941459            0.00        0               0  \n",
       "941460            0.00        0               0  \n",
       "941461            0.00        0               0  \n",
       "941462            0.00        0               0  \n",
       "\n",
       "[941463 rows x 8 columns]"
      ]
     },
     "execution_count": 5,
     "metadata": {},
     "output_type": "execute_result"
    }
   ],
   "source": [
    "df.drop(['step'], axis=1, inplace=True)\n",
    "df.drop(['nameOrig'], axis=1, inplace=True)\n",
    "df.drop(['nameDest'], axis=1, inplace=True)\n",
    "df"
   ]
  },
  {
   "cell_type": "code",
   "execution_count": 6,
   "id": "03d0df9f",
   "metadata": {},
   "outputs": [
    {
     "data": {
      "text/html": [
       "<div>\n",
       "<style scoped>\n",
       "    .dataframe tbody tr th:only-of-type {\n",
       "        vertical-align: middle;\n",
       "    }\n",
       "\n",
       "    .dataframe tbody tr th {\n",
       "        vertical-align: top;\n",
       "    }\n",
       "\n",
       "    .dataframe thead th {\n",
       "        text-align: right;\n",
       "    }\n",
       "</style>\n",
       "<table border=\"1\" class=\"dataframe\">\n",
       "  <thead>\n",
       "    <tr style=\"text-align: right;\">\n",
       "      <th></th>\n",
       "      <th>amount</th>\n",
       "      <th>oldbalanceOrg</th>\n",
       "      <th>newbalanceOrig</th>\n",
       "      <th>oldbalanceDest</th>\n",
       "      <th>newbalanceDest</th>\n",
       "      <th>isFraud</th>\n",
       "      <th>isFlaggedFraud</th>\n",
       "    </tr>\n",
       "  </thead>\n",
       "  <tbody>\n",
       "    <tr>\n",
       "      <th>count</th>\n",
       "      <td>9.414630e+05</td>\n",
       "      <td>9.414630e+05</td>\n",
       "      <td>9.414630e+05</td>\n",
       "      <td>9.414630e+05</td>\n",
       "      <td>9.414630e+05</td>\n",
       "      <td>941463.000000</td>\n",
       "      <td>941463.0</td>\n",
       "    </tr>\n",
       "    <tr>\n",
       "      <th>mean</th>\n",
       "      <td>1.620576e+05</td>\n",
       "      <td>8.784096e+05</td>\n",
       "      <td>8.991832e+05</td>\n",
       "      <td>9.877584e+05</td>\n",
       "      <td>1.129649e+06</td>\n",
       "      <td>0.000552</td>\n",
       "      <td>0.0</td>\n",
       "    </tr>\n",
       "    <tr>\n",
       "      <th>std</th>\n",
       "      <td>2.617744e+05</td>\n",
       "      <td>2.973557e+06</td>\n",
       "      <td>3.010646e+06</td>\n",
       "      <td>2.309683e+06</td>\n",
       "      <td>2.432874e+06</td>\n",
       "      <td>0.023495</td>\n",
       "      <td>0.0</td>\n",
       "    </tr>\n",
       "    <tr>\n",
       "      <th>min</th>\n",
       "      <td>1.000000e-01</td>\n",
       "      <td>0.000000e+00</td>\n",
       "      <td>0.000000e+00</td>\n",
       "      <td>0.000000e+00</td>\n",
       "      <td>0.000000e+00</td>\n",
       "      <td>0.000000</td>\n",
       "      <td>0.0</td>\n",
       "    </tr>\n",
       "    <tr>\n",
       "      <th>25%</th>\n",
       "      <td>1.290797e+04</td>\n",
       "      <td>0.000000e+00</td>\n",
       "      <td>0.000000e+00</td>\n",
       "      <td>0.000000e+00</td>\n",
       "      <td>0.000000e+00</td>\n",
       "      <td>0.000000</td>\n",
       "      <td>0.0</td>\n",
       "    </tr>\n",
       "    <tr>\n",
       "      <th>50%</th>\n",
       "      <td>8.021414e+04</td>\n",
       "      <td>1.591800e+04</td>\n",
       "      <td>0.000000e+00</td>\n",
       "      <td>1.333269e+05</td>\n",
       "      <td>2.310088e+05</td>\n",
       "      <td>0.000000</td>\n",
       "      <td>0.0</td>\n",
       "    </tr>\n",
       "    <tr>\n",
       "      <th>75%</th>\n",
       "      <td>2.189869e+05</td>\n",
       "      <td>1.408610e+05</td>\n",
       "      <td>1.813015e+05</td>\n",
       "      <td>9.270892e+05</td>\n",
       "      <td>1.172408e+06</td>\n",
       "      <td>0.000000</td>\n",
       "      <td>0.0</td>\n",
       "    </tr>\n",
       "    <tr>\n",
       "      <th>max</th>\n",
       "      <td>1.000000e+07</td>\n",
       "      <td>3.893942e+07</td>\n",
       "      <td>3.894623e+07</td>\n",
       "      <td>4.205466e+07</td>\n",
       "      <td>4.216916e+07</td>\n",
       "      <td>1.000000</td>\n",
       "      <td>0.0</td>\n",
       "    </tr>\n",
       "  </tbody>\n",
       "</table>\n",
       "</div>"
      ],
      "text/plain": [
       "             amount  oldbalanceOrg  newbalanceOrig  oldbalanceDest  \\\n",
       "count  9.414630e+05   9.414630e+05    9.414630e+05    9.414630e+05   \n",
       "mean   1.620576e+05   8.784096e+05    8.991832e+05    9.877584e+05   \n",
       "std    2.617744e+05   2.973557e+06    3.010646e+06    2.309683e+06   \n",
       "min    1.000000e-01   0.000000e+00    0.000000e+00    0.000000e+00   \n",
       "25%    1.290797e+04   0.000000e+00    0.000000e+00    0.000000e+00   \n",
       "50%    8.021414e+04   1.591800e+04    0.000000e+00    1.333269e+05   \n",
       "75%    2.189869e+05   1.408610e+05    1.813015e+05    9.270892e+05   \n",
       "max    1.000000e+07   3.893942e+07    3.894623e+07    4.205466e+07   \n",
       "\n",
       "       newbalanceDest        isFraud  isFlaggedFraud  \n",
       "count    9.414630e+05  941463.000000        941463.0  \n",
       "mean     1.129649e+06       0.000552             0.0  \n",
       "std      2.432874e+06       0.023495             0.0  \n",
       "min      0.000000e+00       0.000000             0.0  \n",
       "25%      0.000000e+00       0.000000             0.0  \n",
       "50%      2.310088e+05       0.000000             0.0  \n",
       "75%      1.172408e+06       0.000000             0.0  \n",
       "max      4.216916e+07       1.000000             0.0  "
      ]
     },
     "execution_count": 6,
     "metadata": {},
     "output_type": "execute_result"
    }
   ],
   "source": [
    "df.describe()"
   ]
  },
  {
   "cell_type": "markdown",
   "id": "9d1961f7",
   "metadata": {},
   "source": [
    "Бачимо в якому діапазону знаходяться наші вхідні значення. Одразу можна помітити, що стовпець **isFlaggedFraud** складається тільки з 0, отже, доречніше буде його видалити."
   ]
  },
  {
   "cell_type": "code",
   "execution_count": 7,
   "id": "8054450d",
   "metadata": {},
   "outputs": [],
   "source": [
    "df.drop(['isFlaggedFraud'], axis=1, inplace=True)"
   ]
  },
  {
   "cell_type": "markdown",
   "id": "104cbe0a",
   "metadata": {},
   "source": [
    "Усі інші дані краще розглядати більш детальніше на рахунок викидів за допомогою побудови боксплотів."
   ]
  },
  {
   "cell_type": "code",
   "execution_count": 8,
   "id": "265a32fa",
   "metadata": {},
   "outputs": [
    {
     "data": {
      "image/png": "[encoded data removed]",
      "text/plain": [
       "<Figure size 576x576 with 1 Axes>"
      ]
     },
     "metadata": {
      "needs_background": "light"
     },
     "output_type": "display_data"
    }
   ],
   "source": [
    "df[['amount']].boxplot(figsize=(8, 8));\n",
    "plt.title('Boxplot amount');"
   ]
  },
  {
   "cell_type": "markdown",
   "id": "499086aa",
   "metadata": {},
   "source": [
    "Система знаходить дуже багато викидів. Викидами в данному випадку вважаються всі суми оперецій, що є дуже великими. На мою думку, видаляти ці записи не потрібно, адже транзакції можуть відбуватись і в дуже великих розмірах."
   ]
  },
  {
   "cell_type": "code",
   "execution_count": 9,
   "id": "fb80c185",
   "metadata": {},
   "outputs": [
    {
     "data": {
      "image/png": "[encoded data removed]",
      "text/plain": [
       "<Figure size 576x576 with 1 Axes>"
      ]
     },
     "metadata": {
      "needs_background": "light"
     },
     "output_type": "display_data"
    }
   ],
   "source": [
    "df[['oldbalanceOrg']].boxplot(figsize=(8, 8));\n",
    "plt.title('Boxplot oldbalanceOrg');"
   ]
  },
  {
   "cell_type": "markdown",
   "id": "e30e0ba5",
   "metadata": {},
   "source": [
    "Ситуація схожа з минулою - начебто викидів дуже багато. Але так як досліджуваною змінною є кількість коштів на рахунку, то видаляти записи не потрібно. адже суми на рахунках у кожного можуть бути різні."
   ]
  },
  {
   "cell_type": "code",
   "execution_count": 10,
   "id": "adc00e0f",
   "metadata": {},
   "outputs": [
    {
     "data": {
      "image/png": "[encoded data removed]",
      "text/plain": [
       "<Figure size 576x576 with 1 Axes>"
      ]
     },
     "metadata": {
      "needs_background": "light"
     },
     "output_type": "display_data"
    }
   ],
   "source": [
    "df[['newbalanceOrig']].boxplot(figsize=(8, 8));\n",
    "plt.title('Boxplot newbalanceOrig');"
   ]
  },
  {
   "cell_type": "code",
   "execution_count": 11,
   "id": "fd5c1967",
   "metadata": {},
   "outputs": [
    {
     "data": {
      "image/png": "[encoded data removed]",
      "text/plain": [
       "<Figure size 576x576 with 1 Axes>"
      ]
     },
     "metadata": {
      "needs_background": "light"
     },
     "output_type": "display_data"
    }
   ],
   "source": [
    "df[['oldbalanceDest']].boxplot(figsize=(8, 8));\n",
    "plt.title('Boxplot oldbalanceDest');"
   ]
  },
  {
   "cell_type": "code",
   "execution_count": 12,
   "id": "88f2a094",
   "metadata": {},
   "outputs": [
    {
     "data": {
      "image/png": "[encoded data removed]",
      "text/plain": [
       "<Figure size 576x576 with 1 Axes>"
      ]
     },
     "metadata": {
      "needs_background": "light"
     },
     "output_type": "display_data"
    }
   ],
   "source": [
    "df[['newbalanceDest']].boxplot(figsize=(8, 8));\n",
    "plt.title('Boxplot newbalanceDest');"
   ]
  },
  {
   "cell_type": "markdown",
   "id": "898eb9e4",
   "metadata": {},
   "source": [
    "Аналогічна ситуація, залишаємо все як є. Через те, що усі змінні відповідають за певний розмір коштів, видаляти дані буде недоцільним, адже об'єктивно визначити викиди не вийде. "
   ]
  },
  {
   "cell_type": "code",
   "execution_count": 13,
   "id": "bfe14804",
   "metadata": {},
   "outputs": [
    {
     "data": {
      "image/png": "[encoded data removed]",
      "text/plain": [
       "<Figure size 432x288 with 1 Axes>"
      ]
     },
     "metadata": {
      "needs_background": "light"
     },
     "output_type": "display_data"
    }
   ],
   "source": [
    "#Побудуємо графік розподілу для категоріальних величин\n",
    "#Подивимось як розподілена цільова змінна опису транзакції\n",
    "df['isFraud'].value_counts().plot.bar();"
   ]
  },
  {
   "cell_type": "code",
   "execution_count": 14,
   "id": "d1ec843a",
   "metadata": {},
   "outputs": [
    {
     "data": {
      "text/plain": [
       "0    940943\n",
       "1       520\n",
       "Name: isFraud, dtype: int64"
      ]
     },
     "execution_count": 14,
     "metadata": {},
     "output_type": "execute_result"
    }
   ],
   "source": [
    "df['isFraud'].value_counts()"
   ]
  },
  {
   "cell_type": "markdown",
   "id": "c049a5ff",
   "metadata": {},
   "source": [
    "За графіком розподілу може здатись, що транзакцій, що відповідають номеру \"1\"(шахрайські) немає. Але далі після підрахунку кількості записів, що відносяться до певних категорій, видно, що такі транзакції в нашому дататсеті присутні, просто їх кількість значно менша за звичайні не шахрайські транзакції."
   ]
  },
  {
   "cell_type": "code",
   "execution_count": 15,
   "id": "d6ed4b12",
   "metadata": {},
   "outputs": [
    {
     "data": {
      "image/png": "[encoded data removed]",
      "text/plain": [
       "<Figure size 432x288 with 1 Axes>"
      ]
     },
     "metadata": {
      "needs_background": "light"
     },
     "output_type": "display_data"
    }
   ],
   "source": [
    "#Подивимось розподіл змінної, що відповідає за тип транзакції\n",
    "df['type'].value_counts().plot.bar();"
   ]
  },
  {
   "cell_type": "code",
   "execution_count": 16,
   "id": "b521e7be",
   "metadata": {},
   "outputs": [
    {
     "data": {
      "text/plain": [
       "CASH_OUT    341006\n",
       "PAYMENT     310938\n",
       "CASH_IN     205673\n",
       "TRANSFER     77808\n",
       "DEBIT         6038\n",
       "Name: type, dtype: int64"
      ]
     },
     "execution_count": 16,
     "metadata": {},
     "output_type": "execute_result"
    }
   ],
   "source": [
    "df['type'].value_counts()"
   ]
  },
  {
   "cell_type": "markdown",
   "id": "6ed36d17",
   "metadata": {},
   "source": [
    "Отже, найчастіше всього у даному наборі даних зустрчаються ті транзакції, що були проведені шляхом знімання готівки(CASH_OUT). З невеликим відривом другу сходинку посіли транзакції, що відбувались під час саме оплати. Наступними за кількістю є транзакції, що були проведені під час того,як людина клала кошти на рахунок. Найменш популярними виявились переказ коштів та дебетові операції."
   ]
  },
  {
   "cell_type": "code",
   "execution_count": 18,
   "id": "76000051",
   "metadata": {},
   "outputs": [
    {
     "data": {
      "image/png": "[encoded data removed]",
      "text/plain": [
       "<Figure size 720x576 with 2 Axes>"
      ]
     },
     "metadata": {
      "needs_background": "light"
     },
     "output_type": "display_data"
    }
   ],
   "source": [
    "#Для того, щоб зрозуміти чи є якась залежність між характером транзакції та іншими кількісними змінними, будуємо теплову карту\n",
    "plt.figure(figsize=(10,8));\n",
    "sns.heatmap(df.corr(), annot=True);"
   ]
  },
  {
   "cell_type": "markdown",
   "id": "40f702fb",
   "metadata": {},
   "source": [
    "За побудованою тепловою картою одразу видно, що існує пряма 100% залежність між старим балансом одержувача та новим балансом після транзакції. Це не дивно, адже ця інформація є логічною, так само як і з рахунком одержувача(якщо при транзакції був одержувач), кореляція між новою і страрою кількістю грошей на рахунку становить 98%.\n",
    "\n",
    "Також доволі велика кореляція між балансом одержувача після транзакції та сумою операції, вона становить 31%. Трохи менша залежність, розміром в 22% між тією ж самою сумою операції та старим балансом одержувача.\n",
    "\n",
    "Між цільовою змінною та іншими кількисними факорами сильної кореляції не спостерігається. Найбільша кореляція між характером транзакції та сумою операції, що становить 6,7%. З іншими показниками спостерігається кореляція менше 1%, тобто є взагалі не суттєвою. До речі між характером транзакції та усіми іншими показниками, окрім старого балансу початкового клієнту, кореляція є від'ємною. Це означає, що залежність між показниками є оберненою(при зростанні одного, інший спадає). Тобто в нашому випадку це означатиме, що якщо isFraund зміниться з 0 на 1(транзакція буде шахрайсьокою), то кошти на рахунках будуть менші, ніж у випадках з нешахрайськими транзакціями. Але, як було сказано раніше, кореляція дуже маленька, тому про таку теорію стверджувати не буде правильним."
   ]
  },
  {
   "cell_type": "code",
   "execution_count": 20,
   "id": "b3b97d6b",
   "metadata": {},
   "outputs": [
    {
     "data": {
      "text/html": [
       "<div>\n",
       "<style scoped>\n",
       "    .dataframe tbody tr th:only-of-type {\n",
       "        vertical-align: middle;\n",
       "    }\n",
       "\n",
       "    .dataframe tbody tr th {\n",
       "        vertical-align: top;\n",
       "    }\n",
       "\n",
       "    .dataframe thead th {\n",
       "        text-align: right;\n",
       "    }\n",
       "</style>\n",
       "<table border=\"1\" class=\"dataframe\">\n",
       "  <thead>\n",
       "    <tr style=\"text-align: right;\">\n",
       "      <th></th>\n",
       "      <th>amount</th>\n",
       "      <th>oldbalanceOrg</th>\n",
       "      <th>newbalanceOrig</th>\n",
       "      <th>oldbalanceDest</th>\n",
       "      <th>newbalanceDest</th>\n",
       "      <th>isFraud</th>\n",
       "      <th>type_CASH_OUT</th>\n",
       "      <th>type_DEBIT</th>\n",
       "      <th>type_PAYMENT</th>\n",
       "      <th>type_TRANSFER</th>\n",
       "    </tr>\n",
       "  </thead>\n",
       "  <tbody>\n",
       "    <tr>\n",
       "      <th>0</th>\n",
       "      <td>9839.64</td>\n",
       "      <td>170136.0</td>\n",
       "      <td>160296.36</td>\n",
       "      <td>0.0</td>\n",
       "      <td>0.0</td>\n",
       "      <td>0</td>\n",
       "      <td>0</td>\n",
       "      <td>0</td>\n",
       "      <td>1</td>\n",
       "      <td>0</td>\n",
       "    </tr>\n",
       "    <tr>\n",
       "      <th>1</th>\n",
       "      <td>1864.28</td>\n",
       "      <td>21249.0</td>\n",
       "      <td>19384.72</td>\n",
       "      <td>0.0</td>\n",
       "      <td>0.0</td>\n",
       "      <td>0</td>\n",
       "      <td>0</td>\n",
       "      <td>0</td>\n",
       "      <td>1</td>\n",
       "      <td>0</td>\n",
       "    </tr>\n",
       "    <tr>\n",
       "      <th>2</th>\n",
       "      <td>181.00</td>\n",
       "      <td>181.0</td>\n",
       "      <td>0.00</td>\n",
       "      <td>0.0</td>\n",
       "      <td>0.0</td>\n",
       "      <td>1</td>\n",
       "      <td>0</td>\n",
       "      <td>0</td>\n",
       "      <td>0</td>\n",
       "      <td>1</td>\n",
       "    </tr>\n",
       "    <tr>\n",
       "      <th>3</th>\n",
       "      <td>181.00</td>\n",
       "      <td>181.0</td>\n",
       "      <td>0.00</td>\n",
       "      <td>21182.0</td>\n",
       "      <td>0.0</td>\n",
       "      <td>1</td>\n",
       "      <td>1</td>\n",
       "      <td>0</td>\n",
       "      <td>0</td>\n",
       "      <td>0</td>\n",
       "    </tr>\n",
       "    <tr>\n",
       "      <th>4</th>\n",
       "      <td>11668.14</td>\n",
       "      <td>41554.0</td>\n",
       "      <td>29885.86</td>\n",
       "      <td>0.0</td>\n",
       "      <td>0.0</td>\n",
       "      <td>0</td>\n",
       "      <td>0</td>\n",
       "      <td>0</td>\n",
       "      <td>1</td>\n",
       "      <td>0</td>\n",
       "    </tr>\n",
       "  </tbody>\n",
       "</table>\n",
       "</div>"
      ],
      "text/plain": [
       "     amount  oldbalanceOrg  newbalanceOrig  oldbalanceDest  newbalanceDest  \\\n",
       "0   9839.64       170136.0       160296.36             0.0             0.0   \n",
       "1   1864.28        21249.0        19384.72             0.0             0.0   \n",
       "2    181.00          181.0            0.00             0.0             0.0   \n",
       "3    181.00          181.0            0.00         21182.0             0.0   \n",
       "4  11668.14        41554.0        29885.86             0.0             0.0   \n",
       "\n",
       "   isFraud  type_CASH_OUT  type_DEBIT  type_PAYMENT  type_TRANSFER  \n",
       "0        0              0           0             1              0  \n",
       "1        0              0           0             1              0  \n",
       "2        1              0           0             0              1  \n",
       "3        1              1           0             0              0  \n",
       "4        0              0           0             1              0  "
      ]
     },
     "execution_count": 20,
     "metadata": {},
     "output_type": "execute_result"
    }
   ],
   "source": [
    "#Так як змінні type є категоріальною, то перед побудовою матриці незалежних змінних, цю змінну попередньо необхідно перекодувати в числовий формат. \n",
    "df = pd.get_dummies(df, columns=['type'], drop_first=True)\n",
    "df.head()\n",
    "# Тепер фіктивна змінна type_CASH_OUT приймає такі значення:\n",
    "# 0 - DEBIT, PAYMENT або TRANSFER\n",
    "# 1 - CASH_OUT\n",
    "# І так далі"
   ]
  },
  {
   "cell_type": "markdown",
   "id": "92e4fd05",
   "metadata": {},
   "source": [
    "Як можна побачити стовпчик type_CASH_IN не був сформований, це означає, що якщо транзакція за всіма типами приймає значення 0. То тип даної транзакції буде  CASH_IN."
   ]
  },
  {
   "cell_type": "code",
   "execution_count": 21,
   "id": "e8fe0748",
   "metadata": {},
   "outputs": [
    {
     "name": "stdout",
     "output_type": "stream",
     "text": [
      "     amount  oldbalanceOrg  newbalanceOrig  oldbalanceDest  newbalanceDest  \\\n",
      "0   9839.64       170136.0       160296.36             0.0             0.0   \n",
      "1   1864.28        21249.0        19384.72             0.0             0.0   \n",
      "2    181.00          181.0            0.00             0.0             0.0   \n",
      "3    181.00          181.0            0.00         21182.0             0.0   \n",
      "4  11668.14        41554.0        29885.86             0.0             0.0   \n",
      "\n",
      "   type_CASH_OUT  type_DEBIT  type_PAYMENT  type_TRANSFER  \n",
      "0              0           0             1              0  \n",
      "1              0           0             1              0  \n",
      "2              0           0             0              1  \n",
      "3              1           0             0              0  \n",
      "4              0           0             1              0  \n"
     ]
    }
   ],
   "source": [
    "#Визначимо матрицю незалежних змінних (факторів) \n",
    "X = df.drop(df[['isFraud']], axis=1)#обираємо усі стовпчики, окрім цільової змінної\n",
    "print(X.head())"
   ]
  },
  {
   "cell_type": "code",
   "execution_count": 22,
   "id": "b0bc7edd",
   "metadata": {},
   "outputs": [
    {
     "name": "stdout",
     "output_type": "stream",
     "text": [
      "0    0\n",
      "1    0\n",
      "2    1\n",
      "3    1\n",
      "4    0\n",
      "Name: isFraud, dtype: int64\n"
     ]
    }
   ],
   "source": [
    "#Визначимо вектор залежної (цільової) змінної\n",
    "y = df['isFraud']#обираємо цільову змінну\n",
    "print(y.head())"
   ]
  },
  {
   "cell_type": "code",
   "execution_count": 23,
   "id": "48f2c0e5",
   "metadata": {},
   "outputs": [],
   "source": [
    "#Стандартизуємо матрицю Х\n",
    "from sklearn.preprocessing import StandardScaler\n",
    "sc = StandardScaler()\n",
    "sc.fit(X)\n",
    "X_std = sc.fit_transform(X)"
   ]
  },
  {
   "cell_type": "code",
   "execution_count": 24,
   "id": "4b8e4809",
   "metadata": {},
   "outputs": [],
   "source": [
    "#Розділимо дані на навчальну і тестову вибірки\n",
    "# Навчальну вибірку використовуємо для навчання моделі\n",
    "# Тестову вибірку використовуємо для перевірки якості побудованої моделі\n",
    "from sklearn.model_selection import train_test_split\n",
    "\n",
    "X_train, X_test, y_train, y_test = train_test_split(\n",
    "    X_std, y, stratify = y, test_size=0.3, random_state=0)"
   ]
  },
  {
   "cell_type": "code",
   "execution_count": 25,
   "id": "30e20e80",
   "metadata": {},
   "outputs": [],
   "source": [
    "# Будуємо логістичну регресію\n",
    "#  Створення і навчання класифікатора  на  навчальному наборі даних\n",
    "from sklearn.linear_model import LogisticRegression\n",
    "lr = LogisticRegression() \n",
    "\n",
    "# навчаємо модель на навчальній вибірці - X_train, y_train\n",
    "lr.fit(X_train, y_train)\n",
    "\n",
    "# робимо прогноз цільової змінної на тестовій вибірці - X_test\n",
    "y_pred_lr = lr.predict(X_test)"
   ]
  },
  {
   "cell_type": "code",
   "execution_count": 26,
   "id": "7e1ce4e3",
   "metadata": {},
   "outputs": [
    {
     "name": "stdout",
     "output_type": "stream",
     "text": [
      "              precision    recall  f1-score   support\n",
      "\n",
      "           0       1.00      1.00      1.00    282283\n",
      "           1       0.93      0.16      0.27       156\n",
      "\n",
      "    accuracy                           1.00    282439\n",
      "   macro avg       0.96      0.58      0.64    282439\n",
      "weighted avg       1.00      1.00      1.00    282439\n",
      "\n"
     ]
    }
   ],
   "source": [
    "#Оцінимо якість класифікатора\n",
    "from sklearn.metrics import classification_report \n",
    "# Порівнюючи  свідчення  класифікатора  (y_pred_lr) з  фактично  відомими  даними тестового набору (y_test),  можна робити висновок про точність класифікатора\n",
    "print(classification_report(y_test, y_pred_lr))"
   ]
  },
  {
   "cell_type": "markdown",
   "id": "2f9448b1",
   "metadata": {},
   "source": [
    "Відповідно маємо всього 282439 тестових спостережень, з яких 282283 належить до не шахрайських та лише 156 до шахрайських операцій.\n",
    "\n",
    "Показник accuracy відповідає за повну точність моделі. Точність являє собою кількість правильно класифікованих екземплярів даних над загальною кількістю екземплярів даних. Тобто точність даної моделі становить 100%, що дуже дивно, адже за іншими показниками ми не можемо сказати про повну тоність, а цей показник каже, що усі значення були класифіковані правильно. Але не завжди показник точності відповідає реальності, ажде деколи дані можуть бути незбалансованими. Тому треба розглядяти і інші показники.\n",
    "\n",
    "precision - точність. Точність - це відношення правильно передбачених позитивних значень до загальних прогнозованих позитивних значень. В ідеалі точність повинна бути 1 (високою) для хорошого класифікатора. Висока точність свідчить про низький показник хибнопозитивних результатів, на відміну від повної точності. У нашому випадку точність для класифікаціїї характеру транзакції становить 100% для не шахрайських транзакій та 93% для шахрайських. Отже, результати точності є доволі непоганими, бо перший взагалі каже про відсутність хибнопозитивних випадків, а другий знаходяться відносно недалеко від 100%. Однак другий показник біля шахрайських транзакцій є меншим за accuracy, це означає, що серед ознак класифікаційних як шахрайські існує певна кількість хибнопозитивних.\n",
    "\n",
    "recall - відкликання. Відкликання - це відношення правильно передбачених позитивних значень до фактичних позитивних значень. В ідеалі відкливання має бути 1 (високим) для хорошого класифікатора. Це також буде означати , що FN дорівнює нулю, тобто при класифікації немає хибнонегативних значень. У нашому випадку відкликання становить 100% для не шахрайських транзакій та тільки 16% для шахрайських. Результати першої групи є дуже хорошими, адже вони становлять 100%, а ось для другого вони дуже погані. Це може означати, що дана модель погано класифікує ті транзакції, що виявляться шахрайськими, адже кількість правильно передбачених позитивних значень становить тільки 16% фактичних позитивних значень.\n",
    "\n",
    "f1-score - середньозважене значення точності та відкликання. Оцінка F1 стає високою лише тоді, коли і точність , і відкликання високі, тому вона є кращим показником, ніж точність, оскільки враховує як хибні випадки, так і хибнонегативні. Отже, в даній класифікації оцінка F1 для характеру транзакції 0 становить 100%, тому ми остаточно можемо казати про ідеальну роботу класифікатора у випадку з нешахрайськими транзакціями, а для 1 - 27%, що є поганим результатом. Тому, класифікація транзакцій, що будуть шахрайськими є не дуже хорошою і тільки для 27% може правильно класифікувати шахрайські транзакції."
   ]
  },
  {
   "cell_type": "code",
   "execution_count": 27,
   "id": "c6b64702",
   "metadata": {},
   "outputs": [
    {
     "data": {
      "text/plain": [
       "<sklearn.metrics._plot.confusion_matrix.ConfusionMatrixDisplay at 0x2060902d970>"
      ]
     },
     "execution_count": 27,
     "metadata": {},
     "output_type": "execute_result"
    },
    {
     "data": {
      "image/png": "[encoded data removed]",
      "text/plain": [
       "<Figure size 432x288 with 2 Axes>"
      ]
     },
     "metadata": {
      "needs_background": "light"
     },
     "output_type": "display_data"
    }
   ],
   "source": [
    "# Побудуємо матрицю помилок\n",
    "from sklearn.metrics import confusion_matrix\n",
    "from sklearn.metrics import ConfusionMatrixDisplay\n",
    "\n",
    "# матриця помилок\n",
    "cm = confusion_matrix(y_test, y_pred_lr)\n",
    "\n",
    "# візуалізація матриці помилок\n",
    "cmd = ConfusionMatrixDisplay(cm, display_labels=['0','1']) \n",
    "# display_label - задаються назви класів (0 - 1-й клас, 1 - 2-й клас)\n",
    "cmd.plot()"
   ]
  },
  {
   "cell_type": "markdown",
   "id": "ded7cfb9",
   "metadata": {},
   "source": [
    "TP – істино-позитивна відповідь, значення якої можна побачити в лівому верхньому куті. Це ті значення, що були класифіковані, як ті транзакції, що не є шахрайськими і вони справді не були шахрайськими. В нашому випадку більшість значень(282281) є істотно позитивними, що вказує на правильну класифікацію цих значень, що можна було і помітити за розрахунком минулих показників.\n",
    "\n",
    "FP - помилково-позитивна відповідь, значення якої можна побачити в правому верхньому куті. Це ті значення, що були класифіковані як транзакції, що не є шахрайськими, а вони виявились шахрайськми. Значення цього показника є дуже маленьким, лише 2 випадки. Порівняно з істотно-позитивними значення це майже нічого. Тому можна ще раз наголосити на тому, що операціїщо не є шахрайськими дуже добре класифікуються.\n",
    "\n",
    "TN - істино-негативна відповідь, значення якої можна побачити в правому нижньому куті. Це ті значення, що були класифіковані, як шахрайські транзакції, і вони справді виявились шахрайськими. Так як при дослудженні було набагато більше записів з не шахрайськими транзакціями, то кількість істотно-негативних значень сама собю буде менша, але в нашому випадку Їх кількість ише 25, що у 5 разів менше за помилково-негативну, отже це говорить про погану класифікацію шахрайських транзакцій.\n",
    "\n",
    "FN - помилково-негативна відповідь, значення якої можна побачити в лівому нижньому куті. Це ті значення, що були класифіковані як шахрайські транзакції, але вони виявились не шахрайськими. Порівняно з загальною кількістю шахрайських транзакцій, помилково-негативних значень доволі багато - 131, що свідчить про велику кількість транзакцій, що насправді будуть безпечними, але вони класифіковані як шахрайські.\n",
    "\n",
    "Ми прагнемо до більшої кількості істино-позитивних та істино-негативних результатів, але через неправильну класифікацію ми також бачимо велику кількість хибно- негативних. Таким чином, існує плутанина в класифікації того, буде транзакція шахрайською чи ні. \n",
    "Саме тому можна зробити висновок, що даний алгоритм машинного навчання доволі непоганий для класифікації безпечних транзакцій, а ось шахрайсьі транзакції дана модель не може нормально класифікувати, чого ми і прагнули для цієї моделі класифікації. Можливо це пов'язано з тим, що кількість транзакцій, що були виявлені як шахрайські, була значно меншою за кількість безпечних транзакцій, і саме тому класифікатору не вистачило записив для гарного навчання."
   ]
  },
  {
   "cell_type": "code",
   "execution_count": 28,
   "id": "8beeafbb",
   "metadata": {},
   "outputs": [],
   "source": [
    "# Метод найближчих сусідів\n",
    "#  Створення і навчання класифікатора  на  навчальному наборі даних\n",
    "#Спочатку через велику кількість даних в мене не виходило навчити класифікатор даним методом, але згодом все віийшло!!\n",
    "from sklearn.neighbors import KNeighborsClassifier\n",
    "KNN = KNeighborsClassifier()\n",
    "KNN.fit(X_train, y_train)\n",
    "\n",
    "# робимо прогноз на тестовій вибірці - X_test\n",
    "y_pred_KNN = KNN.predict(X_test)"
   ]
  },
  {
   "cell_type": "code",
   "execution_count": 29,
   "id": "bc159eb5",
   "metadata": {},
   "outputs": [
    {
     "data": {
      "text/plain": [
       "<sklearn.metrics._plot.confusion_matrix.ConfusionMatrixDisplay at 0x2060902df40>"
      ]
     },
     "execution_count": 29,
     "metadata": {},
     "output_type": "execute_result"
    },
    {
     "data": {
      "image/png": "[encoded data removed]",
      "text/plain": [
       "<Figure size 432x288 with 2 Axes>"
      ]
     },
     "metadata": {
      "needs_background": "light"
     },
     "output_type": "display_data"
    }
   ],
   "source": [
    "# Побудуємо матрицю помилок\n",
    "from sklearn.metrics import confusion_matrix\n",
    "from sklearn.metrics import ConfusionMatrixDisplay\n",
    "\n",
    "# матриця помилок\n",
    "cm = confusion_matrix(y_test, y_pred_KNN)\n",
    "\n",
    "# візуалізація матриці помилок\n",
    "cmd = ConfusionMatrixDisplay(cm, display_labels=['0','1']) \n",
    "# display_label - задаються назви класів\n",
    "cmd.plot()"
   ]
  },
  {
   "cell_type": "markdown",
   "id": "2843a17d",
   "metadata": {},
   "source": [
    "За побудовою класифікаційної моделі методом найближчих сусідів бачимо певні відмінності з минулою матрицею. Цього разу виявилось трохи більше хибно-позитивних значень(16), але їх кількість є несуттєвою, якщо порівнювати з істотно-позитивними значеннями. І все одно говорить про хорошу класифікацію безпечних транзакцій.\n",
    "\n",
    "У випадку з істотно-негативними та хибнонегативними значеннями, ситуація стала трохи кращою. Але кількість істотно-негативних все одно трохи менша за хибно-негативні, що говорить про поганеньку класифікацію шахрайських транзакцій. Отже, дана класифікація відбувається правильно приблизно на 50%."
   ]
  },
  {
   "cell_type": "code",
   "execution_count": 30,
   "id": "b6d9ebd0",
   "metadata": {},
   "outputs": [
    {
     "name": "stdout",
     "output_type": "stream",
     "text": [
      "              precision    recall  f1-score   support\n",
      "\n",
      "           0       1.00      1.00      1.00    282283\n",
      "           1       0.82      0.46      0.59       156\n",
      "\n",
      "    accuracy                           1.00    282439\n",
      "   macro avg       0.91      0.73      0.79    282439\n",
      "weighted avg       1.00      1.00      1.00    282439\n",
      "\n"
     ]
    }
   ],
   "source": [
    "#Оцінимо якість класифікатора\n",
    "print(classification_report(y_test, y_pred_KNN))"
   ]
  },
  {
   "cell_type": "markdown",
   "id": "2987a91f",
   "metadata": {},
   "source": [
    "За оцінками якості класифікатора загальна точність моделі та результати показників щодо безпечних транзакцій не відрізняються від класифікації за допомогою побудови логістичної регресії. Усі ці значення так і становлять 100%.\n",
    "\n",
    "В ситуації із показниками, що відносяться до шахрайських операцій можна сказати, що вони стали набагато кращими. Recall(відкликання) до цього становило 16%, а у даному випадку 46%. F1-score у минулій моделі становив 27%, а тепер 59%, що є навіть більше половини. Precision(точність) стала трохи меншою, але не суттєво. \n",
    "\n",
    "Отже, можна стверджувати, що класифікація  методом найближчих сусідів відбувається не ідеально в розрахунку класифікації шахрайських операцій, але вона є кращою за класифікацію за допомогою логістичної регресії."
   ]
  },
  {
   "cell_type": "code",
   "execution_count": null,
   "id": "748e6f82",
   "metadata": {},
   "outputs": [],
   "source": [
    "#я також намагалась провести класифікацію методом опорних векторів, але через велику кількість даних комп'ютер перенавантажується і йому складно опрацювати таку кількість даних за цим методом\n",
    "#метод опорних векторів\n",
    "from sklearn.svm import SVC\n",
    "\n",
    "svm = SVC()\n",
    "svm.fit(X_train, y_train)\n",
    "y_pred_svm = svm.predict(X_test)"
   ]
  },
  {
   "cell_type": "code",
   "execution_count": null,
   "id": "487630df",
   "metadata": {},
   "outputs": [],
   "source": [
    "print(classification_report(y_test, y_pred_svm))"
   ]
  },
  {
   "cell_type": "code",
   "execution_count": null,
   "id": "aaa4d49d",
   "metadata": {},
   "outputs": [],
   "source": [
    "# Побудуємо матрицю помилок\n",
    "from sklearn.metrics import confusion_matrix\n",
    "from sklearn.metrics import ConfusionMatrixDisplay\n",
    "\n",
    "# матриця помилок\n",
    "cm = confusion_matrix(y_test, y_pred_svm)\n",
    "\n",
    "# візуалізація матриці помилок\n",
    "cmd = ConfusionMatrixDisplay(cm, display_labels=['0','1']) \n",
    "# display_label - задаються назви класів\n",
    "cmd.plot()"
   ]
  },
  {
   "cell_type": "markdown",
   "id": "3a7a50d6",
   "metadata": {},
   "source": [
    "### Висновки:\n",
    "- було проведене навчання класифікатора для того, щоб  класифікувати транзакції на шахрайські (той випадок, коли шахраї викрадають кошти з карт) та звичайні транзакції (ті, що відбуваються між звичайними людьми) на основі набору характеристик щодо проведення транзакцій. До цих характеристик входили: тип транзакції, сума проведеної операції, сума коштів на рахунках двох людей, що були замішані у транзакціях, до і після проведення операції. \n",
    "- дана задача була вирішена за допомогою бінарної класифікації з використанням Scikit-Learn та за допомогою реалізації таких алгоритмів: метод k-найближчих сусідів (K-Nearest Neighbors) та логічна регресія (Logistic Regression). І виявилось, що найкраще класифікація відбувається при навчанні класифікатора за допомогою методу найближчих сусідів.\n",
    "- також при класифікації було виявлено, що і перша і друга модель ідеально класифікують транзакції, що є безпечними, а ось при класифікації шахрайських транзакцій з'являється плутанина та модель працює не дуже якісно. \n",
    "- у будь-якому випадку кожна класифікаційна модель має свої недоліки і ідеальних моделей не існує. Отже дану модель можна використовувати для подальшої класифікації шахрайських транзакцій. Можливо вона буде працювати краще, якщо для навчання вдасться дадати більше шахрайських транзакцій."
   ]
  },
  {
   "cell_type": "markdown",
   "id": "b0208914",
   "metadata": {},
   "source": [
    "#### Посилання на джерело, з якого були взяті дані:\n",
    "https://www.kaggle.com/datasets/vardhansiramdasu/fraudulent-transactions-prediction?resource=download"
   ]
  }
 ],
 "metadata": {
  "kernelspec": {
   "display_name": "Python 3 (ipykernel)",
   "language": "python",
   "name": "python3"
  },
  "language_info": {
   "codemirror_mode": {
    "name": "ipython",
    "version": 3
   },
   "file_extension": ".py",
   "mimetype": "text/x-python",
   "name": "python",
   "nbconvert_exporter": "python",
   "pygments_lexer": "ipython3",
   "version": "3.9.7"
  }
 },
 "nbformat": 4,
 "nbformat_minor": 5
}
